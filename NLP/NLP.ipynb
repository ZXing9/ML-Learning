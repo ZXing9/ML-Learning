{
 "metadata": {
  "language_info": {
   "codemirror_mode": {
    "name": "ipython",
    "version": 3
   },
   "file_extension": ".py",
   "mimetype": "text/x-python",
   "name": "python",
   "nbconvert_exporter": "python",
   "pygments_lexer": "ipython3",
   "version": "3.7.6-final"
  },
  "orig_nbformat": 2,
  "kernelspec": {
   "name": "python_defaultSpec_1599049629659",
   "display_name": "Python 3.7.6 64-bit ('base': conda)"
  }
 },
 "nbformat": 4,
 "nbformat_minor": 2,
 "cells": [
  {
   "cell_type": "code",
   "execution_count": 2,
   "metadata": {},
   "outputs": [
    {
     "output_type": "execute_result",
     "data": {
      "text/plain": "' jieba分词特点\\n四种分词模式\\n    精确模式: 试图将句子最精确地切开，适合文本分析；\\n    全模式: 把句子中所有的可以成词的词语都扫描出来, 速度非常快，但是不能解决歧义\\n    搜索引擎模式: 在精确模式的基础上，对长词再次切分，提高召回率，适合用于搜索引擎分词\\n    paddle模式: 利用PaddlePaddle深度学习框架，训练序列标注（双向GRU）网络模型实现分词，同时支持词性标注\\n        paddle模式使用需安装paddlepaddle-tiny: pip install paddlepaddle-tiny==1.6.1\\n        目前paddle模式支持jieba v0.40及以上版本。\\n        jieba v0.40以下版本，请升级 jieba: pip install jieba --upgrade\\n支持繁体分词\\n支持自定义词典\\nMIT 授权协议 '"
     },
     "metadata": {},
     "execution_count": 2
    }
   ],
   "source": [
    "\"\"\" jieba分词特点\n",
    "四种分词模式\n",
    "    精确模式: 试图将句子最精确地切开，适合文本分析；\n",
    "    全模式: 把句子中所有的可以成词的词语都扫描出来, 速度非常快，但是不能解决歧义\n",
    "    搜索引擎模式: 在精确模式的基础上，对长词再次切分，提高召回率，适合用于搜索引擎分词\n",
    "    paddle模式: 利用PaddlePaddle深度学习框架，训练序列标注（双向GRU）网络模型实现分词，同时支持词性标注\n",
    "        paddle模式使用需安装paddlepaddle-tiny: pip install paddlepaddle-tiny==1.6.1\n",
    "        目前paddle模式支持jieba v0.40及以上版本。\n",
    "        jieba v0.40以下版本，请升级 jieba: pip install jieba --upgrade\n",
    "支持繁体分词\n",
    "支持自定义词典\n",
    "MIT 授权协议 \"\"\""
   ]
  },
  {
   "cell_type": "code",
   "execution_count": 3,
   "metadata": {
    "tags": []
   },
   "outputs": [
    {
     "output_type": "stream",
     "name": "stderr",
     "text": "Building prefix dict from the default dictionary ...\nLoading model from cache C:\\Users\\Charles\\AppData\\Local\\Temp\\jieba.cache\nLoading model cost 0.668 seconds.\nPrefix dict has been built successfully.\n他, 来到, 了, 网易, 杭研, 大厦\nDefault Mode: 我/ 来到/ 北京/ 清华大学\n"
    }
   ],
   "source": [
    "# encoding=utf-8\n",
    "import jieba\n",
    "\"\"\" 1.精确模式\n",
    "\n",
    "精确模式: 试图将句子最精确地切开，适合文本分析 \"\"\"\n",
    "seg_list = jieba.cut(\"他来到了网易杭研大厦\")  # 默认是精确模式\n",
    "print(\", \".join(seg_list))\n",
    "\n",
    "seg_list = jieba.cut(\"我来到北京清华大学\", cut_all=False)\n",
    "print(\"Default Mode: \" + \"/ \".join(seg_list))  # 精确模式"
   ]
  },
  {
   "cell_type": "code",
   "execution_count": 6,
   "metadata": {
    "tags": []
   },
   "outputs": [
    {
     "output_type": "stream",
     "name": "stdout",
     "text": "Full Mode: 我/来到/北京/清华/清华大学/华大/大学\n"
    }
   ],
   "source": [
    "\"\"\" 2.全模式\n",
    "\n",
    "全模式: 把句子中所有的可以成词的词语都扫描出来, 速度非常快，但是不能解决歧义 \"\"\"\n",
    "seg_list=jieba.cut(\"我来到北京清华大学\",cut_all=True)\n",
    "print(\"Full Mode: \"+\"/\".join(seg_list))  #全模式"
   ]
  },
  {
   "cell_type": "code",
   "execution_count": 7,
   "metadata": {
    "tags": []
   },
   "outputs": [
    {
     "output_type": "stream",
     "name": "stdout",
     "text": "小明, 硕士, 毕业, 于, 中国, 科学, 学院, 科学院, 中国科学院, 计算, 计算所, ，, 后, 在, 日本, 京都, 大学, 日本京都大学, 深造\n"
    }
   ],
   "source": [
    "\"\"\" 3.搜索引擎模式\n",
    "\n",
    "搜索引擎模式: 在精确模式的基础上，对长词再次切分，提高召回率，适合用于搜索引擎分词 \"\"\"\n",
    "seg_list = jieba.cut_for_search(\"小明硕士毕业于中国科学院计算所，后在日本京都大学深造\")  # 搜索引擎模式\n",
    "print(\", \".join(seg_list))"
   ]
  },
  {
   "cell_type": "code",
   "execution_count": 8,
   "metadata": {
    "tags": []
   },
   "outputs": [
    {
     "output_type": "stream",
     "name": "stderr",
     "text": "Paddle enabled successfully......\nPaddle Mode: 我/来到/北京清华大学\nPaddle Mode: 乒乓球/拍卖/完/了\nPaddle Mode: 中国科学技术大学\n"
    }
   ],
   "source": [
    "\"\"\" 4.paddle 模式\n",
    "\n",
    "paddle 模式: 利用PaddlePaddle深度学习框架，训练序列标注（双向GRU）网络模型实现分词，同时支持词性标注 \"\"\"\n",
    "jieba.enable_paddle()   #启动paddle模式\n",
    "strs=[\"我来到北京清华大学\", \"乒乓球拍卖完了\", \"中国科学技术大学\"]\n",
    "for _str in strs:\n",
    "    seg_list=jieba.cut(_str,use_paddle=True)\n",
    "    print(\"Paddle Mode: \"+'/'.join(list(seg_list)))\n",
    "    "
   ]
  },
  {
   "cell_type": "code",
   "execution_count": null,
   "metadata": {},
   "outputs": [],
   "source": []
  }
 ]
}