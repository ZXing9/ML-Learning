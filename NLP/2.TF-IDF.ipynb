{
 "cells": [
  {
   "cell_type": "code",
   "execution_count": 1,
   "metadata": {},
   "outputs": [],
   "source": [
    "# 文本样例\n",
    "text1 =\"\"\"\n",
    "Football is a family of team sports that involve, to varying degrees, kicking a ball to score a goal. \n",
    "Unqualified, the word football is understood to refer to whichever form of football is the most popular \n",
    "in the regional context in which the word appears. Sports commonly called football in certain places \n",
    "include association football (known as soccer in some countries); gridiron football (specifically American \n",
    "football or Canadian football); Australian rules football; rugby football (either rugby league or rugby union); \n",
    "and Gaelic football. These different variations of football are known as football codes.\n",
    "\"\"\"\n",
    "\n",
    "text2 = \"\"\"\n",
    "Basketball is a team sport in which two teams of five players, opposing one another on a rectangular court, \n",
    "compete with the primary objective of shooting a basketball (approximately 9.4 inches (24 cm) in diameter) \n",
    "through the defender's hoop (a basket 18 inches (46 cm) in diameter mounted 10 feet (3.048 m) high to a backboard \n",
    "at each end of the court) while preventing the opposing team from shooting through their own hoop. A field goal is \n",
    "worth two points, unless made from behind the three-point line, when it is worth three. After a foul, timed play stops \n",
    "and the player fouled or designated to shoot a technical foul is given one or more one-point free throws. The team with \n",
    "the most points at the end of the game wins, but if regulation play expires with the score tied, an additional period \n",
    "of play (overtime) is mandated.\n",
    "\"\"\"\n",
    "\n",
    "text3 = \"\"\"\n",
    "Volleyball, game played by two teams, usually of six players on a side, in which the players use their hands to bat a \n",
    "ball back and forth over a high net, trying to make the ball touch the court within the opponents’ playing area before \n",
    "it can be returned. To prevent this a player on the opposing team bats the ball up and toward a teammate before it touches \n",
    "the court surface—that teammate may then volley it back across the net or bat it to a third teammate who volleys it across \n",
    "the net. A team is allowed only three touches of the ball before it must be returned over the net.\n",
    "\"\"\""
   ]
  },
  {
   "cell_type": "code",
   "execution_count": 2,
   "metadata": {},
   "outputs": [],
   "source": [
    "import nltk\n",
    "import string\n",
    "# 文本预处理\n",
    "# step1. 对文本去掉换行符，分句、分词，再去掉标点\n",
    "def get_tokens(text):\n",
    "    text = text.replace('\\n','')\n",
    "    sents = nltk.sent_tokenize(text)  #分句\n",
    "    tokens=[]\n",
    "    for sent in sents:\n",
    "        for word in nltk.word_tokenize(sent):\n",
    "            if word not in string.punctuation:#过滤标点符号\n",
    "                tokens.append(word)\n",
    "    return tokens\n"
   ]
  },
  {
   "cell_type": "code",
   "execution_count": 3,
   "metadata": {},
   "outputs": [],
   "source": [
    "from nltk.corpus import stopwords\n",
    "from collections import Counter\n",
    "# step2. 去除停用词，生成count字典，即每个单词出现次数\n",
    "def make_count(text):\n",
    "    tokens=get_tokens(text)\n",
    "    filter=[w for w in tokens if not w in stopwords.words('english')]\n",
    "    count=Counter(filter)\n",
    "    return count"
   ]
  },
  {
   "cell_type": "code",
   "execution_count": 4,
   "metadata": {
    "tags": []
   },
   "outputs": [
    {
     "output_type": "stream",
     "name": "stdout",
     "text": "Counter({'football': 12, 'rugby': 3, 'word': 2, 'known': 2, 'Football': 1, 'family': 1, 'team': 1, 'sports': 1, 'involve': 1, 'varying': 1, 'degrees': 1, 'kicking': 1, 'ball': 1, 'score': 1, 'goal': 1, 'Unqualified': 1, 'understood': 1, 'refer': 1, 'whichever': 1, 'form': 1, 'popular': 1, 'regional': 1, 'context': 1, 'appears': 1, 'Sports': 1, 'commonly': 1, 'called': 1, 'certain': 1, 'places': 1, 'include': 1, 'association': 1, 'soccer': 1, 'countries': 1, 'gridiron': 1, 'specifically': 1, 'American': 1, 'Canadian': 1, 'Australian': 1, 'rules': 1, 'either': 1, 'league': 1, 'union': 1, 'Gaelic': 1, 'These': 1, 'different': 1, 'variations': 1, 'codes': 1})\n"
    }
   ],
   "source": [
    "# 以text1为例生成count字典\n",
    "print(make_count(text1))"
   ]
  },
  {
   "cell_type": "code",
   "execution_count": 5,
   "metadata": {
    "tags": []
   },
   "outputs": [
    {
     "output_type": "stream",
     "name": "stdout",
     "text": "Training by original algorithm......\n\nTop words in document 1\n    Word: football, TF-IDF: 0.30677\n    Word: rugby, TF-IDF: 0.07669\n    Word: word, TF-IDF: 0.05113\n    Word: known, TF-IDF: 0.05113\n    Word: Football, TF-IDF: 0.02556\nTop words in document 2\n    Word: play, TF-IDF: 0.05283\n    Word: one, TF-IDF: 0.03522\n    Word: shooting, TF-IDF: 0.03522\n    Word: inches, TF-IDF: 0.03522\n    Word: cm, TF-IDF: 0.03522\nTop words in document 3\n    Word: net, TF-IDF: 0.10226\n    Word: teammate, TF-IDF: 0.07669\n    Word: bat, TF-IDF: 0.05113\n    Word: back, TF-IDF: 0.05113\n    Word: returned, TF-IDF: 0.05113\n"
    }
   ],
   "source": [
    "\"\"\" 手动实现TF-IDF \"\"\"\n",
    "import math\n",
    "\n",
    "# 计算tf值\n",
    "def tf(word, count):\n",
    "    return count[word]/sum(count.values())\n",
    "\n",
    "# 计算count_list有多少个文件包含word\n",
    "def n_containing(word, count_list):\n",
    "    return sum(1 for count in count_list if word in count)\n",
    "\n",
    "# 计算idf\n",
    "def idf(word, count_list):\n",
    "    return math.log2(len(count_list)/n_containing(word,count_list))\n",
    "\n",
    "# 计算tf-idf\n",
    "def tdidf(word,count,count_list):\n",
    "    return tf(word,count)*idf(word,count_list)\n",
    "\n",
    "# TF-IDF测试\n",
    "count1,count2,count3=make_count(text1),make_count(text2),make_count(text3)\n",
    "count_list=[count1,count2,count3]\n",
    "print(\"Training by original algorithm......\\n\")\n",
    "for i,count in enumerate(count_list):\n",
    "    print(\"Top words in document %d\"%(i + 1))\n",
    "    scores={word: tdidf(word,count,count_list) for word in count}\n",
    "    sorted_words=sorted(scores.items(),key=lambda x:x[1],reverse=True)\n",
    "    for word,score in sorted_words[:5]:\n",
    "        print(\"    Word: %s, TF-IDF: %s\"%(word, round(score, 5)))"
   ]
  },
  {
   "cell_type": "code",
   "execution_count": 8,
   "metadata": {
    "tags": []
   },
   "outputs": [
    {
     "output_type": "stream",
     "name": "stdout",
     "text": "\nTraining by gensim Tfidf Model.......\n\nTop words in document 1\n    Word: football, TF-IDF: 0.84766\n    Word: rugby, TF-IDF: 0.21192\n    Word: known, TF-IDF: 0.14128\n    Word: word, TF-IDF: 0.14128\n    Word: American, TF-IDF: 0.07064\nTop words in document 2\n    Word: play, TF-IDF: 0.29872\n    Word: cm, TF-IDF: 0.19915\n    Word: diameter, TF-IDF: 0.19915\n    Word: end, TF-IDF: 0.19915\n    Word: foul, TF-IDF: 0.19915\nTop words in document 3\n    Word: net, TF-IDF: 0.45775\n    Word: teammate, TF-IDF: 0.34331\n    Word: across, TF-IDF: 0.22888\n    Word: back, TF-IDF: 0.22888\n    Word: bat, TF-IDF: 0.22888\n"
    }
   ],
   "source": [
    "\"\"\" 使用Gensim模块 \"\"\"\n",
    "from nltk.corpus import stopwords\n",
    "from gensim import corpora,models,matutils\n",
    "\n",
    "#training by gensim's Ifidf Model\n",
    "def get_words(text):\n",
    "    tokens=get_tokens(text)\n",
    "    filtered=[w for w in tokens if not w in stopwords.words('english')]\n",
    "    return filtered\n",
    "\n",
    "count1,count2,count3=get_words(text1),get_words(text2),get_words(text3)\n",
    "countlist=[count1,count2,count3]\n",
    "# training by TfidfModel in gensim\n",
    "dictionary=corpora.Dictionary(countlist)\n",
    "new_dict={v:k for k,v in dictionary.token2id.items()}\n",
    "corpus2=[dictionary.doc2bow(count) for count in countlist]\n",
    "tfidf2=models.TfidfModel(corpus2)\n",
    "corpus_tfidf=tfidf2[corpus2]\n",
    "\n",
    "# output\n",
    "print(\"\\nTraining by gensim Tfidf Model.......\\n\")\n",
    "for i, doc in enumerate(corpus_tfidf):\n",
    "    print(\"Top words in document %d\"%(i + 1))\n",
    "    sorted_words = sorted(doc, key=lambda x: x[1], reverse=True)    #type=list\n",
    "    for num, score in sorted_words[:5]:\n",
    "        print(\"    Word: %s, TF-IDF: %s\"%(new_dict[num], round(score, 5)))"
   ]
  },
  {
   "cell_type": "code",
   "execution_count": 10,
   "metadata": {
    "tags": []
   },
   "outputs": [
    {
     "output_type": "stream",
     "name": "stdout",
     "text": "Training by original algorithm......\n\nTop words in document 1\n    Word: football, TF-IDF: 0.84766\n    Word: rugby, TF-IDF: 0.21192\n    Word: word, TF-IDF: 0.14128\nTop words in document 2\n    Word: play, TF-IDF: 0.29872\n    Word: one, TF-IDF: 0.19915\n    Word: shooting, TF-IDF: 0.19915\nTop words in document 3\n    Word: net, TF-IDF: 0.45775\n    Word: teammate, TF-IDF: 0.34331\n    Word: bat, TF-IDF: 0.22888\n"
    }
   ],
   "source": [
    "\"\"\" 可以观察到手动实现的和调包实现的有区别，区别在于gensim对得到的tf-idf向量做了规范化（normalize） \"\"\"\n",
    "import numpy as np\n",
    "\n",
    "# 对向量做规范化, normalize\n",
    "def unitvec(sorted_words):\n",
    "    lst = [item[1] for item in sorted_words]\n",
    "    L2Norm = math.sqrt(sum(np.array(lst)*np.array(lst)))\n",
    "    unit_vector = [(item[0], item[1]/L2Norm) for item in sorted_words]\n",
    "    return unit_vector\n",
    "\n",
    "# TF-IDF测试\n",
    "count1, count2, count3 = make_count(text1), make_count(text2), make_count(text3)\n",
    "countlist = [count1, count2, count3]\n",
    "print(\"Training by original algorithm......\\n\")\n",
    "for i, count in enumerate(countlist):\n",
    "    print(\"Top words in document %d\"%(i + 1))\n",
    "    scores = {word: tdidf(word, count, countlist) for word in count}\n",
    "    sorted_words = sorted(scores.items(), key=lambda x: x[1], reverse=True)    #type=list\n",
    "    sorted_words = unitvec(sorted_words)   # normalize\n",
    "    for word, score in sorted_words[:3]:\n",
    "        print(\"    Word: %s, TF-IDF: %s\"%(word, round(score, 5)))"
   ]
  }
 ],
 "metadata": {
  "kernelspec": {
   "display_name": "Python 3",
   "language": "python",
   "name": "python3"
  },
  "language_info": {
   "codemirror_mode": {
    "name": "ipython",
    "version": 3
   },
   "file_extension": ".py",
   "mimetype": "text/x-python",
   "name": "python",
   "nbconvert_exporter": "python",
   "pygments_lexer": "ipython3",
   "version": "3.7.6-final"
  }
 },
 "nbformat": 4,
 "nbformat_minor": 4
}